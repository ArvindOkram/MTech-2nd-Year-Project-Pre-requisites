{
  "nbformat": 4,
  "nbformat_minor": 0,
  "metadata": {
    "colab": {
      "name": "BaseLine_Master_Code.ipynb",
      "provenance": [],
      "collapsed_sections": []
    },
    "kernelspec": {
      "name": "python3",
      "display_name": "Python 3"
    },
    "language_info": {
      "name": "python"
    }
  },
  "cells": [
    {
      "cell_type": "code",
      "metadata": {
        "id": "LGvMJ9fxyUFG"
      },
      "source": [
        "import keras\n",
        "import tensorflow as tf\n",
        "from tensorflow import keras\n",
        "from keras.models import Sequential\n",
        "from keras.layers import Dense, Dropout, Flatten\n",
        "from keras.layers import Conv2D, MaxPooling2D\n",
        "from keras.layers import Activation, MaxPool2D\n",
        "from tensorflow.keras.utils import to_categorical\n",
        "from keras.preprocessing import image\n",
        "from tensorflow.keras import datasets, layers, models, losses\n",
        "import numpy as np\n",
        "import pandas as pd\n",
        "import matplotlib.pyplot as plt\n",
        "from sklearn.model_selection import train_test_split\n",
        "from tqdm import tqdm\n",
        "%matplotlib inline"
      ],
      "execution_count": null,
      "outputs": []
    },
    {
      "cell_type": "code",
      "metadata": {
        "colab": {
          "base_uri": "https://localhost:8080/"
        },
        "id": "JY8Pl0Om2Flt",
        "outputId": "2394346a-a948-47c1-8aa6-0d9506ec60c0"
      },
      "source": [
        "print(\"Choose dataset\")\n",
        "opt = int(input(\"Enter 1 for Messidor Dataset \\nEnter 2 for Augmented Messidor dataset\\n\"))\n",
        "global train_label_path,train_data_path,test_label_path,test_data_path\n",
        "\n",
        "\n",
        "if opt==1:\n",
        "  train_label_path = '/content/drive/MyDrive/Mtech Project/Dataset/Messidor/train.csv'\n",
        "  train_data_path = '../content/drive/MyDrive/Mtech Project/Dataset/Messidor/train/'\n",
        "  test_label_path = '/content/drive/MyDrive/Mtech Project/Dataset/Messidor/test.csv'\n",
        "  test_data_path = '../content/drive/MyDrive/Mtech Project/Dataset/Messidor/test/'\n",
        "elif opt==2:\n",
        "  train_label_path = '/content/drive/MyDrive/Mtech Project/Dataset/Augmented Messidor*5/aug_train_label.csv'\n",
        "  train_data_path = '../content/drive/MyDrive/Mtech Project/Dataset/Augmented Messidor*5/aug_train/'\n",
        "  test_label_path = '/content/drive/MyDrive/Mtech Project/Dataset/Augmented Messidor*5/test.csv'\n",
        "  test_data_path = '../content/drive/MyDrive/Mtech Project/Dataset/Augmented Messidor*5/test/'"
      ],
      "execution_count": null,
      "outputs": [
        {
          "name": "stdout",
          "output_type": "stream",
          "text": [
            "Choose dataset\n",
            "Enter 1 for Messidor Dataset \n",
            "Enter 2 for Augmented Messidor dataset1\n"
          ]
        }
      ]
    },
    {
      "cell_type": "code",
      "metadata": {
        "colab": {
          "base_uri": "https://localhost:8080/"
        },
        "id": "EuuVFlc260HJ",
        "outputId": "05d55f21-f0e7-46f7-dbbf-321725591084"
      },
      "source": [
        "# reading the labels of training data\n",
        "train_set = pd.read_csv(train_label_path)    # reading the csv file\n",
        "train_image = []\n",
        "\n",
        "#loading training data using the labels\n",
        "for i in tqdm(range(train_set.shape[0])):\n",
        "    img = image.load_img(train_data_path + train_set['Image'][i],target_size=(224,224,3))\n",
        "    img = image.img_to_array(img)\n",
        "    img = img/255\n",
        "    train_image.append(img)\n",
        "\n",
        "X = np.array(train_image)\n",
        "\n",
        "# reading the labels of testing data            \n",
        "test_set =  pd.read_csv(test_label_path)    # reading the csv file\n",
        "test_image = []\n",
        "\n",
        "#loading testing data using the labels\n",
        "for i in tqdm(range(test_set.shape[0])):\n",
        "    img = image.load_img(test_data_path + test_set['Image'][i],target_size=(224,224,3))\n",
        "    img = image.img_to_array(img)\n",
        "    img = img/255\n",
        "    test_image.append(img)\n",
        "\n",
        "Y = np.array(test_image)"
      ],
      "execution_count": null,
      "outputs": [
        {
          "output_type": "stream",
          "name": "stderr",
          "text": [
            "100%|██████████| 960/960 [10:28<00:00,  1.53it/s]\n",
            "100%|██████████| 240/240 [02:01<00:00,  1.98it/s]\n"
          ]
        }
      ]
    },
    {
      "cell_type": "code",
      "metadata": {
        "id": "sPFwAYFl8SWq"
      },
      "source": [
        "y = np.array(train_set.drop(['Image', 'Risk of macular edema '],axis=1))\n",
        "X_train, X_test, y_train, y_test = train_test_split(X, y, random_state=42, test_size=0.1)"
      ],
      "execution_count": null,
      "outputs": []
    },
    {
      "cell_type": "code",
      "metadata": {
        "id": "swCQ2DUQ8Y0L"
      },
      "source": [
        "def baseline_model(input_model):\n",
        "  global base_model\n",
        "  if input_model == '1':\n",
        "    vgg16_model = tf.keras.applications.VGG16(include_top=True,weights=\"imagenet\",input_tensor=None,\n",
        "              input_shape=(224,224,3),pooling=None,classes=1000,classifier_activation=\"softmax\",)  \n",
        "    base_model = Sequential()\n",
        "    for layer in vgg16_model.layers[:-1]:\n",
        "        base_model.add(layer)\n",
        "    for layer in base_model.layers:\n",
        "      layer.trainable = False\n",
        "    base_model.add(Dense(4,activation = 'softmax'))\n",
        "\n",
        "  if input_model == '2':\n",
        "    vgg19_model = tf.keras.applications.VGG19(include_top=True,weights=\"imagenet\",\n",
        "              input_shape=(224,224,3),classes=1000,classifier_activation=\"softmax\",)\n",
        "    base_model = Sequential()\n",
        "    for layer in vgg16_model.layers[:-1]:\n",
        "        base_model.add(layer)\n",
        "    for layer in base_model.layers:\n",
        "      layer.trainable = False\n",
        "    base_model.add(Dense(4,activation = 'softmax'))\n",
        "  \n",
        "  if input_model == '3':\n",
        "    resNet50_model= tf.keras.applications.ResNet50(include_top=False,\n",
        "                   input_shape=(224,224,3),\n",
        "                   pooling='avg',classes=4,\n",
        "                   weights='imagenet',)\n",
        "    \n",
        "    base_model = Sequential()\n",
        "    for layer in resNet50_model.layers:\n",
        "        layer.trainable=False\n",
        "    base_model.add(Flatten())\n",
        "    base_model.add(Dense(512, activation='relu'))\n",
        "    base_model.add(Dense(4, activation='softmax'))\n",
        "\n",
        "  if input_model == '4':  \n",
        "    inceptionV3_model= tf.keras.applications.InceptionV3(\n",
        "                        include_top=False,\n",
        "                        weights=\"imagenet\",\n",
        "                        input_tensor=None,\n",
        "                        input_shape=None,\n",
        "                        pooling=None,\n",
        "                        classes=1000,\n",
        "                        classifier_activation=\"softmax\",\n",
        "                    )\n",
        "    inceptionV3_model.trainable = False\n",
        "    base_model = models.Sequential()\n",
        "    base_model.add(inceptionV3_model)\n",
        "    base_model.add(GlobalAvgPool2D())\n",
        "    base_model.add(Dense(units=4,activation='softmax'))\n",
        "\n",
        "  if input_model == '5':\n",
        "    mobileNet_model= tf.keras.applications.MobileNet(\n",
        "          input_shape=None,\n",
        "          alpha=1.0,\n",
        "          depth_multiplier=1,\n",
        "          dropout=0.001,\n",
        "          include_top=True,\n",
        "          weights=\"imagenet\",\n",
        "          input_tensor=None,\n",
        "          pooling=None,\n",
        "          classes=1000,\n",
        "          classifier_activation=\"softmax\",\n",
        "      )\n",
        "    base_model = Sequential()\n",
        "    for layer in mobileNet_model.layers[:-1]:\n",
        "        base_model.add(layer)\n",
        "\n",
        "    for layer in base_model.layers:\n",
        "      layer.trainable = False\n",
        "    base_model.add(Dense(4,activation = 'softmax'))\n",
        "\n",
        "  if input_model == '6':\n",
        "    xception_model = tf.keras.applications.Xception(\n",
        "                  include_top=False,\n",
        "                  weights=\"imagenet\",\n",
        "                  input_tensor=None,\n",
        "                  input_shape=(224,224,3),\n",
        "                  pooling=None,\n",
        "                  classes=4,\n",
        "                  classifier_activation=\"softmax\",\n",
        "              )\n",
        "    \n",
        "    xception_model.trainable = False\n",
        "    base_model = models.Sequential()\n",
        "    base_model.add(xception_model)\n",
        "\n",
        "\n",
        "    base_model.add(GlobalAvgPool2D())\n",
        "    base_model.add(Dense(units=4,activation='softmax'))\n",
        "\n",
        "  if input_model == '7':\n",
        "    densenet121_model= tf.keras.applications.DenseNet121(include_top=False,\n",
        "                      input_shape=(224,224,3),\n",
        "                      pooling='avg',\n",
        "                      weights='imagenet')\n",
        "\n",
        "    for layer in densenet121_model.layers:\n",
        "            layer.trainable=False\n",
        "\n",
        "    #performing fine tuning       \n",
        "    base_model = Sequential()\n",
        "    base_model.add(densenet121_model)\n",
        "    base_model.add(Flatten())\n",
        "    base_model.add(Dense(512, activation='relu'))\n",
        "    base_model.add(Dense(4, activation='softmax'))\n",
        "    \n",
        "  return base_model"
      ],
      "execution_count": null,
      "outputs": []
    },
    {
      "cell_type": "code",
      "metadata": {
        "colab": {
          "base_uri": "https://localhost:8080/"
        },
        "id": "par8-Is5rlvT",
        "outputId": "44009f73-b6cd-4549-c6b8-a3d932484cb9"
      },
      "source": [
        "print('SELECT A MODEL')\n",
        "print('Enter 1 for VGG16')\n",
        "print('Enter 2 for VGG19')\n",
        "print('Enter 3 for ResNet50')\n",
        "print('Enter 4 for InceptionV3')\n",
        "print('Enter 5 for MobileNet')\n",
        "print('Enter 6 for Xception')\n",
        "print('Enter 7 for DenseNet121')\n",
        "\n",
        "choice_model = input('Enter preferred model: ')\n",
        "baseline_model = baseline_model(choice_model)"
      ],
      "execution_count": null,
      "outputs": [
        {
          "name": "stdout",
          "output_type": "stream",
          "text": [
            "SELECT A MODEL\n",
            "Enter 1 for VGG16\n",
            "Enter 2 for VGG19\n",
            "Enter 3 for ResNet50\n",
            "Enter 4 for InceptionV3\n",
            "Enter 5 for MobileNet\n",
            "Enter 6 for Xception\n",
            "Enter 7 for DenseNet121\n",
            "Enter preferred model: 7\n"
          ]
        }
      ]
    },
    {
      "cell_type": "code",
      "metadata": {
        "colab": {
          "base_uri": "https://localhost:8080/"
        },
        "id": "eFnzyxGvuvex",
        "outputId": "6772d36b-4031-476a-eee2-1ccb9fd39da6"
      },
      "source": [
        "baseline_model.summary()"
      ],
      "execution_count": null,
      "outputs": [
        {
          "output_type": "stream",
          "name": "stdout",
          "text": [
            "Model: \"sequential_2\"\n",
            "_________________________________________________________________\n",
            "Layer (type)                 Output Shape              Param #   \n",
            "=================================================================\n",
            "densenet121 (Functional)     (None, 1024)              7037504   \n",
            "_________________________________________________________________\n",
            "flatten (Flatten)            (None, 1024)              0         \n",
            "_________________________________________________________________\n",
            "dense_1 (Dense)              (None, 512)               524800    \n",
            "_________________________________________________________________\n",
            "dense_2 (Dense)              (None, 4)                 2052      \n",
            "=================================================================\n",
            "Total params: 7,564,356\n",
            "Trainable params: 526,852\n",
            "Non-trainable params: 7,037,504\n",
            "_________________________________________________________________\n"
          ]
        }
      ]
    },
    {
      "cell_type": "code",
      "metadata": {
        "colab": {
          "base_uri": "https://localhost:8080/"
        },
        "id": "--_4KSb_u_Ht",
        "outputId": "f6f85c28-8d9a-4301-875e-5a158e95a474"
      },
      "source": [
        "baseline_model.compile(optimizer='adam', loss=losses.sparse_categorical_crossentropy, metrics=['accuracy'])\n",
        "\n",
        "#training\n",
        "history = baseline_model.fit(X_train, y_train,\n",
        "          batch_size=4,\n",
        "          epochs=15,\n",
        "          verbose=1,\n",
        "          validation_data=(X_test, y_test))"
      ],
      "execution_count": null,
      "outputs": [
        {
          "output_type": "stream",
          "name": "stdout",
          "text": [
            "Epoch 1/15\n",
            "216/216 [==============================] - 179s 800ms/step - loss: 1.4726 - accuracy: 0.4329 - val_loss: 1.1541 - val_accuracy: 0.5104\n",
            "Epoch 2/15\n",
            "216/216 [==============================] - 179s 831ms/step - loss: 1.1605 - accuracy: 0.5266 - val_loss: 1.0993 - val_accuracy: 0.5417\n",
            "Epoch 3/15\n",
            "216/216 [==============================] - 184s 854ms/step - loss: 1.1271 - accuracy: 0.5266 - val_loss: 1.0598 - val_accuracy: 0.5833\n",
            "Epoch 4/15\n",
            "216/216 [==============================] - 185s 856ms/step - loss: 1.0746 - accuracy: 0.5648 - val_loss: 1.0157 - val_accuracy: 0.5625\n",
            "Epoch 5/15\n",
            "216/216 [==============================] - 180s 834ms/step - loss: 1.0298 - accuracy: 0.5822 - val_loss: 1.0175 - val_accuracy: 0.5521\n",
            "Epoch 6/15\n",
            "216/216 [==============================] - 176s 814ms/step - loss: 1.0625 - accuracy: 0.5556 - val_loss: 1.0575 - val_accuracy: 0.5729\n",
            "Epoch 7/15\n",
            "216/216 [==============================] - 164s 761ms/step - loss: 1.0110 - accuracy: 0.5926 - val_loss: 1.0828 - val_accuracy: 0.5521\n",
            "Epoch 8/15\n",
            "216/216 [==============================] - 170s 790ms/step - loss: 1.0097 - accuracy: 0.5961 - val_loss: 1.0955 - val_accuracy: 0.5625\n",
            "Epoch 9/15\n",
            "216/216 [==============================] - 171s 793ms/step - loss: 0.9858 - accuracy: 0.5856 - val_loss: 1.0604 - val_accuracy: 0.5729\n",
            "Epoch 10/15\n",
            "216/216 [==============================] - 171s 794ms/step - loss: 0.9572 - accuracy: 0.6100 - val_loss: 1.1225 - val_accuracy: 0.5625\n",
            "Epoch 11/15\n",
            "216/216 [==============================] - 172s 795ms/step - loss: 0.9553 - accuracy: 0.6030 - val_loss: 1.0823 - val_accuracy: 0.6146\n",
            "Epoch 12/15\n",
            "216/216 [==============================] - 174s 804ms/step - loss: 0.9416 - accuracy: 0.6238 - val_loss: 1.0039 - val_accuracy: 0.6042\n",
            "Epoch 13/15\n",
            "216/216 [==============================] - 174s 807ms/step - loss: 0.9143 - accuracy: 0.6343 - val_loss: 1.0806 - val_accuracy: 0.6042\n",
            "Epoch 14/15\n",
            "216/216 [==============================] - 175s 811ms/step - loss: 0.8995 - accuracy: 0.6458 - val_loss: 1.0247 - val_accuracy: 0.5833\n",
            "Epoch 15/15\n",
            "216/216 [==============================] - 173s 800ms/step - loss: 0.8891 - accuracy: 0.6424 - val_loss: 1.0100 - val_accuracy: 0.5938\n"
          ]
        }
      ]
    },
    {
      "cell_type": "code",
      "metadata": {
        "colab": {
          "base_uri": "https://localhost:8080/",
          "height": 729
        },
        "id": "pyl6MfF3ztyD",
        "outputId": "8d20f75e-b112-4c13-e3f8-7326a07c67f6"
      },
      "source": [
        "#Calculating accuracy and loss of the model w.r.t test dataset\n",
        "score = baseline_model.evaluate(X_test, y_test, verbose=0)\n",
        "print(\"Hyperparameters : {} \\n\".format(baseline_model.optimizer.get_config()))\n",
        "print('Test loss:', score[0])\n",
        "print('Test accuracy:', score[1])\n",
        "print('\\n')\n",
        "\n",
        "#Plotting the graph of accuracy VS epoch\n",
        "plt.plot(history.history['accuracy'])\n",
        "plt.title('model accuracy')\n",
        "plt.ylabel('accuracy')\n",
        "plt.xlabel('epoch')\n",
        "plt.legend(['train'],loc='upper left')\n",
        "plt.show()\n",
        "\n",
        "print('\\n')\n",
        "#Plotting the graph of loss VS epoch\n",
        "plt.plot(history.history['loss'])\n",
        "plt.title('model loss')\n",
        "plt.ylabel('loss')\n",
        "plt.xlabel('epoch')\n",
        "plt.legend(['train'],loc='upper left')\n",
        "plt.show()"
      ],
      "execution_count": null,
      "outputs": [
        {
          "output_type": "stream",
          "name": "stdout",
          "text": [
            "Hyperparameters : {'name': 'Adam', 'learning_rate': 0.001, 'decay': 0.0, 'beta_1': 0.9, 'beta_2': 0.999, 'epsilon': 1e-07, 'amsgrad': False} \n",
            "\n",
            "Test loss: 1.0099838972091675\n",
            "Test accuracy: 0.59375\n",
            "\n",
            "\n"
          ]
        },
        {
          "output_type": "display_data",
          "data": {
            "image/png": "[encoded data removed]",
            "text/plain": [
              "<Figure size 432x288 with 1 Axes>"
            ]
          },
          "metadata": {
            "needs_background": "light"
          }
        },
        {
          "output_type": "stream",
          "name": "stdout",
          "text": [
            "\n",
            "\n"
          ]
        },
        {
          "output_type": "display_data",
          "data": {
            "image/png": "[encoded data removed]",
            "text/plain": [
              "<Figure size 432x288 with 1 Axes>"
            ]
          },
          "metadata": {
            "needs_background": "light"
          }
        }
      ]
    }
  ]
}