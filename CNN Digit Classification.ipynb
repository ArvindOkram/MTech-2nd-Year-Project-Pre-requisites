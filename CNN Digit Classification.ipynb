{
 "cells": [
  {
   "cell_type": "code",
   "execution_count": 1,
   "metadata": {},
   "outputs": [],
   "source": [
    "import keras\n",
    "import sklearn.metrics as metrics\n",
    "import tensorflow as tf\n",
    "from keras.datasets import mnist\n",
    "from keras.models import Sequential\n",
    "from keras.layers import Dense, Dropout, Flatten\n",
    "from keras.layers import Conv2D, MaxPooling2D\n",
    "from keras import backend as K\n",
    "import matplotlib.pyplot as plt\n",
    "import numpy as np\n",
    "import seaborn as sn"
   ]
  },
  {
   "cell_type": "code",
   "execution_count": 2,
   "metadata": {},
   "outputs": [
    {
     "name": "stdout",
     "output_type": "stream",
     "text": [
      "(60000, 28, 28)\n",
      "(60000,)\n",
      "(10000, 28, 28)\n",
      "(10000,)\n",
      "28\n",
      "28\n"
     ]
    }
   ],
   "source": [
    "data = mnist.load_data()\n",
    "x_train = data[0][0]\n",
    "#print(x_train)\n",
    "y_train = data[0][1]\n",
    "x_test = data[1][0]\n",
    "y_test = data[1][1]\n",
    "print(x_train.shape)\n",
    "print(y_train.shape)\n",
    "print(x_test.shape)\n",
    "print(y_test.shape)\n",
    "img_rows, img_cols = x_train.shape[1:3]\n",
    "print(img_rows)\n",
    "print(img_cols)"
   ]
  },
  {
   "cell_type": "code",
   "execution_count": 3,
   "metadata": {},
   "outputs": [
    {
     "data": {
      "text/plain": [
       "<matplotlib.image.AxesImage at 0x205cf37dee0>"
      ]
     },
     "execution_count": 3,
     "metadata": {},
     "output_type": "execute_result"
    },
    {
     "data": {
      "image/png": "[encoded data removed]",
      "text/plain": [
       "<Figure size 288x288 with 1 Axes>"
      ]
     },
     "metadata": {
      "needs_background": "light"
     },
     "output_type": "display_data"
    }
   ],
   "source": [
    "plt.matshow(x_train[8])"
   ]
  },
  {
   "cell_type": "code",
   "execution_count": 4,
   "metadata": {},
   "outputs": [
    {
     "name": "stdout",
     "output_type": "stream",
     "text": [
      "(28, 28, 1)\n"
     ]
    }
   ],
   "source": [
    "if K.image_data_format() == 'channels_first':\n",
    "    x_train = x_train.reshape(x_train.shape[0], 1, img_rows, img_cols)\n",
    "    x_test = x_test.reshape(x_test.shape[0], 1, img_rows, img_cols)\n",
    "    input_shape = (1, img_rows, img_cols)\n",
    "else:\n",
    "    x_train = x_train.reshape(x_train.shape[0], img_rows, img_cols, 1)\n",
    "    x_test = x_test.reshape(x_test.shape[0], img_rows, img_cols, 1)\n",
    "    input_shape = (img_rows, img_cols, 1)\n",
    "\n",
    "print(input_shape)"
   ]
  },
  {
   "cell_type": "code",
   "execution_count": 5,
   "metadata": {},
   "outputs": [
    {
     "name": "stdout",
     "output_type": "stream",
     "text": [
      "x_train shape: (60000, 28, 28, 1)\n",
      "60000 train samples\n",
      "10000 test samples\n"
     ]
    }
   ],
   "source": [
    "x_train = x_train.astype('float32')\n",
    "x_test = x_test.astype('float32')\n",
    "x_train = x_train/255.0\n",
    "x_test = x_test/255.0\n",
    "print('x_train shape:', x_train.shape)\n",
    "print(x_train.shape[0], 'train samples')\n",
    "print(x_test.shape[0], 'test samples')"
   ]
  },
  {
   "cell_type": "code",
   "execution_count": 6,
   "metadata": {},
   "outputs": [
    {
     "name": "stdout",
     "output_type": "stream",
     "text": [
      "(60000, 10)\n",
      "(10000, 10)\n"
     ]
    }
   ],
   "source": [
    "num_categories = 10\n",
    "y_train = keras.utils.to_categorical(y_train, num_categories)\n",
    "y_test = keras.utils.to_categorical(y_test, num_categories)\n",
    "print(y_train.shape)\n",
    "print(y_test.shape)"
   ]
  },
  {
   "cell_type": "code",
   "execution_count": null,
   "metadata": {},
   "outputs": [],
   "source": []
  },
  {
   "cell_type": "code",
   "execution_count": 7,
   "metadata": {},
   "outputs": [],
   "source": [
    "model = Sequential()\n",
    "model.add(Conv2D(32, kernel_size=(3, 3),\n",
    "                 activation='relu',\n",
    "                 input_shape=input_shape))\n",
    "model.add(Conv2D(64, (3, 3), activation='relu'))\n",
    "model.add(MaxPooling2D(pool_size=(2, 2)))\n",
    "model.add(Dropout(0.25))\n",
    "model.add(Flatten())\n",
    "model.add(Dense(128, activation='relu'))\n",
    "model.add(Dropout(0.5))\n",
    "model.add(Dense(num_categories, activation='softmax'))"
   ]
  },
  {
   "cell_type": "code",
   "execution_count": 8,
   "metadata": {},
   "outputs": [
    {
     "name": "stdout",
     "output_type": "stream",
     "text": [
      "Model: \"sequential\"\n",
      "_________________________________________________________________\n",
      "Layer (type)                 Output Shape              Param #   \n",
      "=================================================================\n",
      "conv2d (Conv2D)              (None, 26, 26, 32)        320       \n",
      "_________________________________________________________________\n",
      "conv2d_1 (Conv2D)            (None, 24, 24, 64)        18496     \n",
      "_________________________________________________________________\n",
      "max_pooling2d (MaxPooling2D) (None, 12, 12, 64)        0         \n",
      "_________________________________________________________________\n",
      "dropout (Dropout)            (None, 12, 12, 64)        0         \n",
      "_________________________________________________________________\n",
      "flatten (Flatten)            (None, 9216)              0         \n",
      "_________________________________________________________________\n",
      "dense (Dense)                (None, 128)               1179776   \n",
      "_________________________________________________________________\n",
      "dropout_1 (Dropout)          (None, 128)               0         \n",
      "_________________________________________________________________\n",
      "dense_1 (Dense)              (None, 10)                1290      \n",
      "=================================================================\n",
      "Total params: 1,199,882\n",
      "Trainable params: 1,199,882\n",
      "Non-trainable params: 0\n",
      "_________________________________________________________________\n"
     ]
    }
   ],
   "source": [
    "model.compile(loss=keras.losses.categorical_crossentropy,\n",
    "              optimizer=keras.optimizers.Adadelta(),\n",
    "              metrics=['accuracy'])\n",
    "model.summary()"
   ]
  },
  {
   "cell_type": "code",
   "execution_count": 9,
   "metadata": {},
   "outputs": [
    {
     "name": "stdout",
     "output_type": "stream",
     "text": [
      "Epoch 1/20\n",
      "469/469 [==============================] - 130s 277ms/step - loss: 2.2747 - accuracy: 0.1720 - val_loss: 2.2400 - val_accuracy: 0.4228\n",
      "Epoch 2/20\n",
      "469/469 [==============================] - 138s 293ms/step - loss: 2.2170 - accuracy: 0.2876 - val_loss: 2.1647 - val_accuracy: 0.5965\n",
      "Epoch 3/20\n",
      "469/469 [==============================] - 137s 292ms/step - loss: 2.1360 - accuracy: 0.3964 - val_loss: 2.0594 - val_accuracy: 0.6677\n",
      "Epoch 4/20\n",
      "469/469 [==============================] - 139s 297ms/step - loss: 2.0224 - accuracy: 0.4744 - val_loss: 1.9111 - val_accuracy: 0.7080\n",
      "Epoch 5/20\n",
      "469/469 [==============================] - 131s 279ms/step - loss: 1.8753 - accuracy: 0.5306 - val_loss: 1.7196 - val_accuracy: 0.7445\n",
      "Epoch 6/20\n",
      "469/469 [==============================] - 125s 267ms/step - loss: 1.6941 - accuracy: 0.5807 - val_loss: 1.5004 - val_accuracy: 0.7724\n",
      "Epoch 7/20\n",
      "469/469 [==============================] - 125s 266ms/step - loss: 1.5050 - accuracy: 0.6150 - val_loss: 1.2831 - val_accuracy: 0.7927\n",
      "Epoch 8/20\n",
      "469/469 [==============================] - 126s 269ms/step - loss: 1.3312 - accuracy: 0.6448 - val_loss: 1.0949 - val_accuracy: 0.8059\n",
      "Epoch 9/20\n",
      "469/469 [==============================] - 125s 267ms/step - loss: 1.1959 - accuracy: 0.6668 - val_loss: 0.9479 - val_accuracy: 0.8203\n",
      "Epoch 10/20\n",
      "469/469 [==============================] - 127s 270ms/step - loss: 1.0860 - accuracy: 0.6908 - val_loss: 0.8364 - val_accuracy: 0.8282\n",
      "Epoch 11/20\n",
      "469/469 [==============================] - 129s 274ms/step - loss: 0.9944 - accuracy: 0.7095 - val_loss: 0.7509 - val_accuracy: 0.8380\n",
      "Epoch 12/20\n",
      "469/469 [==============================] - 130s 278ms/step - loss: 0.9276 - accuracy: 0.7257 - val_loss: 0.6851 - val_accuracy: 0.8457\n",
      "Epoch 13/20\n",
      "469/469 [==============================] - 128s 273ms/step - loss: 0.8690 - accuracy: 0.7390 - val_loss: 0.6325 - val_accuracy: 0.8551\n",
      "Epoch 14/20\n",
      "469/469 [==============================] - 124s 264ms/step - loss: 0.8240 - accuracy: 0.7513 - val_loss: 0.5908 - val_accuracy: 0.8628\n",
      "Epoch 15/20\n",
      "469/469 [==============================] - 122s 260ms/step - loss: 0.7844 - accuracy: 0.7614 - val_loss: 0.5565 - val_accuracy: 0.8681\n",
      "Epoch 16/20\n",
      "469/469 [==============================] - 129s 275ms/step - loss: 0.7483 - accuracy: 0.7725 - val_loss: 0.5270 - val_accuracy: 0.8714\n",
      "Epoch 17/20\n",
      "469/469 [==============================] - 126s 268ms/step - loss: 0.7207 - accuracy: 0.7809 - val_loss: 0.5027 - val_accuracy: 0.8743\n",
      "Epoch 18/20\n",
      "469/469 [==============================] - 126s 269ms/step - loss: 0.6973 - accuracy: 0.7868 - val_loss: 0.4820 - val_accuracy: 0.8784\n",
      "Epoch 19/20\n",
      "469/469 [==============================] - 126s 268ms/step - loss: 0.6742 - accuracy: 0.7958 - val_loss: 0.4635 - val_accuracy: 0.8820\n",
      "Epoch 20/20\n",
      "469/469 [==============================] - 128s 272ms/step - loss: 0.6539 - accuracy: 0.8019 - val_loss: 0.4480 - val_accuracy: 0.8835\n"
     ]
    }
   ],
   "source": [
    "epochs = 20\n",
    "batch_size = 128\n",
    "history = model.fit(x_train, y_train,\n",
    "          batch_size=batch_size,\n",
    "          epochs=epochs,\n",
    "          verbose=1,\n",
    "          validation_data=(x_test, y_test))"
   ]
  },
  {
   "cell_type": "code",
   "execution_count": 10,
   "metadata": {},
   "outputs": [
    {
     "name": "stdout",
     "output_type": "stream",
     "text": [
      "Hyperparameters : {'name': 'Adadelta', 'learning_rate': 0.001, 'decay': 0.0, 'rho': 0.95, 'epsilon': 1e-07} \n",
      "\n",
      "Test loss: 0.4479694962501526\n",
      "Test accuracy: 0.8834999799728394\n"
     ]
    }
   ],
   "source": [
    "score = model.evaluate(x_test, y_test, verbose=0)\n",
    "print(\"Hyperparameters : {} \\n\".format(model.optimizer.get_config()))\n",
    "print('Test loss:', score[0])\n",
    "print('Test accuracy:', score[1])"
   ]
  },
  {
   "cell_type": "code",
   "execution_count": 11,
   "metadata": {},
   "outputs": [
    {
     "data": {
      "image/png": "[encoded data removed]",
      "text/plain": [
       "<Figure size 432x288 with 1 Axes>"
      ]
     },
     "metadata": {
      "needs_background": "light"
     },
     "output_type": "display_data"
    },
    {
     "data": {
      "image/png": "[encoded data removed]",
      "text/plain": [
       "<Figure size 432x288 with 1 Axes>"
      ]
     },
     "metadata": {
      "needs_background": "light"
     },
     "output_type": "display_data"
    }
   ],
   "source": [
    "#Plotting the graph of accuracy VS epoch\n",
    "plt.plot(history.history['accuracy'])\n",
    "plt.title('model accuracy')\n",
    "plt.ylabel('accuracy')\n",
    "plt.xlabel('epoch')\n",
    "plt.legend(['train'],loc='upper left')\n",
    "plt.show()\n",
    "\n",
    "#Plotting the graph of loss VS epoch\n",
    "plt.plot(history.history['loss'])\n",
    "plt.title('model loss')\n",
    "plt.ylabel('loss')\n",
    "plt.xlabel('epoch')\n",
    "plt.legend(['train'],loc='upper left')\n",
    "plt.show()"
   ]
  },
  {
   "cell_type": "code",
   "execution_count": 19,
   "metadata": {
    "scrolled": true
   },
   "outputs": [
    {
     "data": {
      "text/plain": [
       "Text(69.0, 0.5, 'Truth')"
      ]
     },
     "execution_count": 19,
     "metadata": {},
     "output_type": "execute_result"
    },
    {
     "data": {
      "image/png": "[encoded data removed]",
      "text/plain": [
       "<Figure size 720x504 with 2 Axes>"
      ]
     },
     "metadata": {
      "needs_background": "light"
     },
     "output_type": "display_data"
    }
   ],
   "source": [
    "y_predict=model.predict(x_test)\n",
    "matrix = metrics.confusion_matrix(y_test.argmax(axis=1), y_predict.argmax(axis=1))\n",
    "#y_true=y_test\n",
    "#res = tf.math.confusion_matrix(y_true,y_predict)\n",
    "'''\n",
    "plot_confusion_matrix(classifier, X_test, y_test,\n",
    "                             display_labels=class_names,\n",
    "                             cmap=plt.cm.Blues,\n",
    "                             normalize=normalize)'''\n",
    "plt.figure(figsize = (10,7))\n",
    "sn.heatmap(matrix,annot=True,fmt='d')\n",
    "plt.xlabel('Predicted value')\n",
    "plt.ylabel('Truth')"
   ]
  },
  {
   "cell_type": "code",
   "execution_count": 22,
   "metadata": {},
   "outputs": [
    {
     "data": {
      "text/plain": [
       "array([[ 949,    0,    3,    1,    0,    3,   15,    1,    7,    1],\n",
       "       [   0, 1103,    4,    6,    1,    2,    5,    0,   14,    0],\n",
       "       [  19,   20,  872,   19,   19,    1,   25,   21,   36,    0],\n",
       "       [   3,    5,   22,  903,    0,   15,    5,   17,   31,    9],\n",
       "       [   1,    4,    4,    0,  862,    0,   23,    2,    6,   80],\n",
       "       [  24,    8,    6,   81,   25,  678,   22,    4,   31,   13],\n",
       "       [  14,   10,   12,    0,   12,   22,  888,    0,    0,    0],\n",
       "       [   1,   30,   26,    2,   13,    0,    2,  887,    8,   59],\n",
       "       [  12,   26,    9,   40,    8,   22,   14,   20,  810,   13],\n",
       "       [  13,   12,    7,   13,   39,    4,    0,   29,    9,  883]],\n",
       "      dtype=int64)"
      ]
     },
     "execution_count": 22,
     "metadata": {},
     "output_type": "execute_result"
    }
   ],
   "source": [
    "matrix"
   ]
  },
  {
   "cell_type": "code",
   "execution_count": 23,
   "metadata": {
    "scrolled": true
   },
   "outputs": [
    {
     "name": "stdout",
     "output_type": "stream",
     "text": [
      "True positive of values from 0 to 9 : [949, 1103, 872, 903, 862, 678, 888, 887, 810, 883]\n",
      "False negative of values from 0 to 9 : [31, 32, 160, 107, 120, 214, 70, 141, 164, 126]\n",
      "False positive of values from 0 to 9 : [87, 115, 93, 162, 117, 69, 111, 94, 142, 175]\n",
      "True negative of values from 0 to 9 : [8933, 8750, 8875, 8828, 8901, 9039, 8931, 8878, 8884, 8816]\n"
     ]
    }
   ],
   "source": [
    "#Calculating evaluation metrics of the model\n",
    "cf_m = matrix\n",
    "#print(cf_m)\n",
    "\n",
    "true_positive = []\n",
    "true_negative = []\n",
    "false_positive = []\n",
    "false_negative = []\n",
    "\n",
    "\n",
    "for i in range(10):\n",
    "    for j in  range(10):\n",
    "        if i==j:\n",
    "            true_positive.append(cf_m[i][j])\n",
    "\n",
    "print(\"True positive of values from 0 to 9 : {}\".format(true_positive))\n",
    "\n",
    "total_val = 0\n",
    "for i in range(10):\n",
    "    for j in  range(10):\n",
    "        total_val += cf_m[i][j]\n",
    "            \n",
    "for i in range(10):\n",
    "    for j in  range(10):\n",
    "        sum_val = 0\n",
    "        if i!=j:\n",
    "            sum_val += int(cf_m[i][j])\n",
    "        false_negative.append(sum_val)\n",
    "        \n",
    "for i in range(10):\n",
    "    for j in  range(10):\n",
    "        sum_val = 0\n",
    "        if i!=j:\n",
    "            sum_val += cf_m[j][i]\n",
    "        false_positive.append(sum_val)\n",
    "\n",
    "\n",
    "false_negative_list = []\n",
    "i = 0\n",
    "while(i<len(false_negative)):\n",
    "    count = 0\n",
    "    val = 0\n",
    "    while(count<10):\n",
    "        val = val + false_negative[i]\n",
    "        i = i+1\n",
    "        count = count+1\n",
    "    false_negative_list.append(val)\n",
    "    \n",
    "print(\"False negative of values from 0 to 9 : {}\".format(false_negative_list))\n",
    "\n",
    "false_positive_list = []\n",
    "i = 0\n",
    "while(i<len(false_positive)):\n",
    "    count = 0\n",
    "    val = 0\n",
    "    while(count<10):\n",
    "        val = val + false_positive[i]\n",
    "        i = i+1\n",
    "        count = count+1\n",
    "    false_positive_list.append(val)\n",
    "\n",
    "print(\"False positive of values from 0 to 9 : {}\".format(false_positive_list))\n",
    "\n",
    "for i in range(10):\n",
    "    val = total_val - false_positive_list[i] - false_negative_list[i] - true_positive[i]\n",
    "    true_negative.append(val)\n",
    "\n",
    "\n",
    "\n",
    "print(\"True negative of values from 0 to 9 : {}\".format(true_negative))\n"
   ]
  },
  {
   "cell_type": "code",
   "execution_count": 24,
   "metadata": {},
   "outputs": [
    {
     "name": "stdout",
     "output_type": "stream",
     "text": [
      "[[0, 1, 2, 3, 4, 5, 6, 7, 8, 9], [0.97, 0.97, 0.84, 0.89, 0.88, 0.76, 0.93, 0.86, 0.83, 0.88], [0.99, 0.99, 0.99, 0.98, 0.99, 0.99, 0.99, 0.99, 0.98, 0.98], [0.92, 0.91, 0.9, 0.85, 0.88, 0.91, 0.89, 0.9, 0.85, 0.83], [1.0, 1.0, 1.0, 1.0, 1.0, 1.0, 1.0, 1.0, 1.0, 1.0]]\n"
     ]
    }
   ],
   "source": [
    "sensitivity = []\n",
    "specificity = []\n",
    "precision = []\n",
    "F1_score = []\n",
    "\n",
    "for i in range(10):\n",
    "    sensitivity_val = round(true_positive[i] / (true_positive[i] + false_negative_list[i]),2)\n",
    "    sensitivity.append(sensitivity_val)\n",
    "    \n",
    "    specificity_val = round((true_negative[i] / (false_positive_list[i] +  true_negative[i])),2)\n",
    "    specificity.append(specificity_val)\n",
    "    \n",
    "    precision_val = round((true_positive[i]/ (true_positive[i] + false_positive_list[i])),2)\n",
    "    precision.append(precision_val)\n",
    "    \n",
    "    F1_val = round(2*((sensitivity_val*precision_val)/(sensitivity_val+precision_val)))\n",
    "    F1_score.append(F1_val)\n",
    "    \n",
    "evaluation_metrices = []\n",
    "num_list = [0,1,2,3,4,5,6,7,8,9]\n",
    "\n",
    "evaluation_metrices.append(num_list)\n",
    "evaluation_metrices.append(sensitivity)\n",
    "evaluation_metrices.append(specificity)\n",
    "evaluation_metrices.append(precision)\n",
    "evaluation_metrices.append(F1_score)\n",
    "    \n",
    "print(evaluation_metrices)    "
   ]
  },
  {
   "cell_type": "code",
   "execution_count": 25,
   "metadata": {},
   "outputs": [
    {
     "data": {
      "text/plain": [
       "[[0, 0.97, 0.99, 0.92, 1.0],\n",
       " [1, 0.97, 0.99, 0.91, 1.0],\n",
       " [2, 0.84, 0.99, 0.9, 1.0],\n",
       " [3, 0.89, 0.98, 0.85, 1.0],\n",
       " [4, 0.88, 0.99, 0.88, 1.0],\n",
       " [5, 0.76, 0.99, 0.91, 1.0],\n",
       " [6, 0.93, 0.99, 0.89, 1.0],\n",
       " [7, 0.86, 0.99, 0.9, 1.0],\n",
       " [8, 0.83, 0.98, 0.85, 1.0],\n",
       " [9, 0.88, 0.98, 0.83, 1.0]]"
      ]
     },
     "execution_count": 25,
     "metadata": {},
     "output_type": "execute_result"
    }
   ],
   "source": [
    "[list(i) for i in zip(*evaluation_metrices)]"
   ]
  },
  {
   "cell_type": "code",
   "execution_count": null,
   "metadata": {},
   "outputs": [],
   "source": []
  },
  {
   "cell_type": "code",
   "execution_count": null,
   "metadata": {},
   "outputs": [],
   "source": []
  }
 ],
 "metadata": {
  "kernelspec": {
   "display_name": "Python 3",
   "language": "python",
   "name": "python3"
  },
  "language_info": {
   "codemirror_mode": {
    "name": "ipython",
    "version": 3
   },
   "file_extension": ".py",
   "mimetype": "text/x-python",
   "name": "python",
   "nbconvert_exporter": "python",
   "pygments_lexer": "ipython3",
   "version": "3.8.3"
  }
 },
 "nbformat": 4,
 "nbformat_minor": 4
}
