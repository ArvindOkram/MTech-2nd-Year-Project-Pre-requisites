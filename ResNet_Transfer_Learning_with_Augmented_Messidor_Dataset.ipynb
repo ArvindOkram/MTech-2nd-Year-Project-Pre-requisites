{
  "nbformat": 4,
  "nbformat_minor": 0,
  "metadata": {
    "colab": {
      "name": "ResNet Transfer Learning with Augmented Messidor Dataset.ipynb",
      "provenance": []
    },
    "kernelspec": {
      "name": "python3",
      "display_name": "Python 3"
    },
    "language_info": {
      "name": "python"
    }
  },
  "cells": [
    {
      "cell_type": "code",
      "metadata": {
        "id": "IP4nPVckg8VC"
      },
      "source": [
        "import keras\n",
        "import tensorflow as tf\n",
        "from tensorflow import keras\n",
        "from keras.models import Sequential\n",
        "from keras.layers import Dense, Dropout, Flatten\n",
        "from keras.layers import Conv2D, MaxPooling2D\n",
        "from keras.layers import Activation, MaxPool2D\n",
        "from tensorflow.keras.utils import to_categorical\n",
        "from keras.preprocessing import image\n",
        "from tensorflow.keras import datasets, layers, models, losses\n",
        "import numpy as np\n",
        "import pandas as pd\n",
        "import matplotlib.pyplot as plt\n",
        "from sklearn.model_selection import train_test_split\n",
        "from tqdm import tqdm\n",
        "%matplotlib inline"
      ],
      "execution_count": 4,
      "outputs": []
    },
    {
      "cell_type": "code",
      "metadata": {
        "colab": {
          "base_uri": "https://localhost:8080/",
          "height": 204
        },
        "id": "DI3PO2jLhMRx",
        "outputId": "78ba84a6-dfba-4755-96b3-10664ddcf99b"
      },
      "source": [
        "train_set = pd.read_csv('/content/drive/MyDrive/Mtech Project/Dataset/Augmented Messidor*5/aug_train_label.csv')    # reading the csv file\n",
        "train_set.head() "
      ],
      "execution_count": 5,
      "outputs": [
        {
          "output_type": "execute_result",
          "data": {
            "text/html": [
              "<div>\n",
              "<style scoped>\n",
              "    .dataframe tbody tr th:only-of-type {\n",
              "        vertical-align: middle;\n",
              "    }\n",
              "\n",
              "    .dataframe tbody tr th {\n",
              "        vertical-align: top;\n",
              "    }\n",
              "\n",
              "    .dataframe thead th {\n",
              "        text-align: right;\n",
              "    }\n",
              "</style>\n",
              "<table border=\"1\" class=\"dataframe\">\n",
              "  <thead>\n",
              "    <tr style=\"text-align: right;\">\n",
              "      <th></th>\n",
              "      <th>Image</th>\n",
              "      <th>Id</th>\n",
              "      <th>Risk of Macular Edema</th>\n",
              "    </tr>\n",
              "  </thead>\n",
              "  <tbody>\n",
              "    <tr>\n",
              "      <th>0</th>\n",
              "      <td>20051019_38557_0100_PP.tif_0_1898.tif</td>\n",
              "      <td>2</td>\n",
              "      <td>0</td>\n",
              "    </tr>\n",
              "    <tr>\n",
              "      <th>1</th>\n",
              "      <td>20051019_38557_0100_PP.tif_0_3322.tif</td>\n",
              "      <td>2</td>\n",
              "      <td>0</td>\n",
              "    </tr>\n",
              "    <tr>\n",
              "      <th>2</th>\n",
              "      <td>20051019_38557_0100_PP.tif_0_4844.tif</td>\n",
              "      <td>2</td>\n",
              "      <td>0</td>\n",
              "    </tr>\n",
              "    <tr>\n",
              "      <th>3</th>\n",
              "      <td>20051019_38557_0100_PP.tif_0_5319.tif</td>\n",
              "      <td>2</td>\n",
              "      <td>0</td>\n",
              "    </tr>\n",
              "    <tr>\n",
              "      <th>4</th>\n",
              "      <td>20051019_38557_0100_PP.tif_0_687.tif</td>\n",
              "      <td>2</td>\n",
              "      <td>0</td>\n",
              "    </tr>\n",
              "  </tbody>\n",
              "</table>\n",
              "</div>"
            ],
            "text/plain": [
              "                                   Image  Id  Risk of Macular Edema\n",
              "0  20051019_38557_0100_PP.tif_0_1898.tif   2                      0\n",
              "1  20051019_38557_0100_PP.tif_0_3322.tif   2                      0\n",
              "2  20051019_38557_0100_PP.tif_0_4844.tif   2                      0\n",
              "3  20051019_38557_0100_PP.tif_0_5319.tif   2                      0\n",
              "4   20051019_38557_0100_PP.tif_0_687.tif   2                      0"
            ]
          },
          "metadata": {},
          "execution_count": 5
        }
      ]
    },
    {
      "cell_type": "code",
      "metadata": {
        "colab": {
          "base_uri": "https://localhost:8080/"
        },
        "id": "sYgzs1wvhMUq",
        "outputId": "abdac102-3f5e-4dfb-dd3f-848bbbda7a6f"
      },
      "source": [
        "train_image = []\n",
        "\n",
        "for i in tqdm(range(train_set.shape[0])):\n",
        "    img = image.load_img('../content/drive/MyDrive/Mtech Project/Dataset/Augmented Messidor*5/aug_train/' + train_set['Image'][i],target_size=(224,224,3))\n",
        "    img = image.img_to_array(img)\n",
        "    img = img/255\n",
        "    train_image.append(img)\n",
        "\n",
        "X = np.array(train_image)"
      ],
      "execution_count": 3,
      "outputs": [
        {
          "output_type": "stream",
          "name": "stderr",
          "text": [
            "100%|██████████| 5760/5760 [31:16<00:00,  3.07it/s]\n"
          ]
        }
      ]
    },
    {
      "cell_type": "code",
      "metadata": {
        "colab": {
          "base_uri": "https://localhost:8080/",
          "height": 204
        },
        "id": "Z5iWYyjxhMXt",
        "outputId": "7f7f9af4-0431-4d3e-d853-079e355f17fc"
      },
      "source": [
        "test_set =  pd.read_csv('/content/drive/MyDrive/Mtech Project/Dataset/Augmented Messidor*5/test.csv')    # reading the csv file\n",
        "test_set.head() "
      ],
      "execution_count": 6,
      "outputs": [
        {
          "output_type": "execute_result",
          "data": {
            "text/html": [
              "<div>\n",
              "<style scoped>\n",
              "    .dataframe tbody tr th:only-of-type {\n",
              "        vertical-align: middle;\n",
              "    }\n",
              "\n",
              "    .dataframe tbody tr th {\n",
              "        vertical-align: top;\n",
              "    }\n",
              "\n",
              "    .dataframe thead th {\n",
              "        text-align: right;\n",
              "    }\n",
              "</style>\n",
              "<table border=\"1\" class=\"dataframe\">\n",
              "  <thead>\n",
              "    <tr style=\"text-align: right;\">\n",
              "      <th></th>\n",
              "      <th>Image</th>\n",
              "      <th>Id</th>\n",
              "      <th>Risk of macular edema</th>\n",
              "    </tr>\n",
              "  </thead>\n",
              "  <tbody>\n",
              "    <tr>\n",
              "      <th>0</th>\n",
              "      <td>20060410_44464_0200_PP.tif</td>\n",
              "      <td>0</td>\n",
              "      <td>0</td>\n",
              "    </tr>\n",
              "    <tr>\n",
              "      <th>1</th>\n",
              "      <td>20051213_61892_0100_PP.tif</td>\n",
              "      <td>0</td>\n",
              "      <td>0</td>\n",
              "    </tr>\n",
              "    <tr>\n",
              "      <th>2</th>\n",
              "      <td>20051020_53062_0100_PP.tif</td>\n",
              "      <td>3</td>\n",
              "      <td>2</td>\n",
              "    </tr>\n",
              "    <tr>\n",
              "      <th>3</th>\n",
              "      <td>20051116_58835_0400_PP.tif</td>\n",
              "      <td>3</td>\n",
              "      <td>1</td>\n",
              "    </tr>\n",
              "    <tr>\n",
              "      <th>4</th>\n",
              "      <td>20051214_51811_0100_PP.tif</td>\n",
              "      <td>3</td>\n",
              "      <td>1</td>\n",
              "    </tr>\n",
              "  </tbody>\n",
              "</table>\n",
              "</div>"
            ],
            "text/plain": [
              "                        Image  Id  Risk of macular edema \n",
              "0  20060410_44464_0200_PP.tif   0                       0\n",
              "1  20051213_61892_0100_PP.tif   0                       0\n",
              "2  20051020_53062_0100_PP.tif   3                       2\n",
              "3  20051116_58835_0400_PP.tif   3                       1\n",
              "4  20051214_51811_0100_PP.tif   3                       1"
            ]
          },
          "metadata": {},
          "execution_count": 6
        }
      ]
    },
    {
      "cell_type": "code",
      "metadata": {
        "colab": {
          "base_uri": "https://localhost:8080/"
        },
        "id": "Fp9MmISqhMZ3",
        "outputId": "85f8cdf5-cad6-4000-a930-557251ee40b3"
      },
      "source": [
        "test_image = []\n",
        "\n",
        "for i in tqdm(range(test_set.shape[0])):\n",
        "    img = image.load_img('../content/drive/MyDrive/Mtech Project/Dataset/Augmented Messidor*5/test/' + test_set['Image'][i],target_size=(224,224,3))\n",
        "    img = image.img_to_array(img)\n",
        "    img = img/255\n",
        "    test_image.append(img)\n",
        "\n",
        "Y = np.array(test_image)"
      ],
      "execution_count": 8,
      "outputs": [
        {
          "output_type": "stream",
          "name": "stderr",
          "text": [
            "100%|██████████| 240/240 [02:07<00:00,  1.89it/s]\n"
          ]
        }
      ]
    },
    {
      "cell_type": "code",
      "metadata": {
        "colab": {
          "base_uri": "https://localhost:8080/"
        },
        "id": "UebWKkrEhMcr",
        "outputId": "18d6b62f-0592-4a20-eb2c-8c802899af99"
      },
      "source": [
        "y = np.array(train_set.drop(['Image', 'Id'],axis=1))\n",
        "y.shape"
      ],
      "execution_count": 9,
      "outputs": [
        {
          "output_type": "execute_result",
          "data": {
            "text/plain": [
              "(5760, 1)"
            ]
          },
          "metadata": {},
          "execution_count": 9
        }
      ]
    },
    {
      "cell_type": "code",
      "metadata": {
        "colab": {
          "base_uri": "https://localhost:8080/"
        },
        "id": "Og6sVDaghMf4",
        "outputId": "81a9a062-9aba-49a1-ed2a-c34ca9e8976e"
      },
      "source": [
        "X_train, X_test, y_train, y_test = train_test_split(X, y, random_state=42, test_size=0.1)\n",
        "print(X_train.shape)\n",
        "print(X_test.shape)\n",
        "print(y_train.shape)\n",
        "print(y_test.shape)"
      ],
      "execution_count": 10,
      "outputs": [
        {
          "output_type": "stream",
          "name": "stdout",
          "text": [
            "(5184, 224, 224, 3)\n",
            "(576, 224, 224, 3)\n",
            "(5184, 1)\n",
            "(576, 1)\n"
          ]
        }
      ]
    },
    {
      "cell_type": "code",
      "metadata": {
        "id": "14oFVF8psJuG"
      },
      "source": [
        "resnet50_model = Sequential()\n",
        "\n",
        "model= tf.keras.applications.ResNet50(include_top=False,\n",
        "                   input_shape=(224,224,3),\n",
        "                   pooling='avg',classes=4,\n",
        "                   weights='imagenet')\n",
        "\n",
        "for layer in model.layers:\n",
        "        layer.trainable=False\n",
        "\n",
        "resnet50_model.add(model)"
      ],
      "execution_count": 19,
      "outputs": []
    },
    {
      "cell_type": "code",
      "metadata": {
        "colab": {
          "base_uri": "https://localhost:8080/"
        },
        "id": "Kz2XUTpetmcZ",
        "outputId": "a07e1a67-f629-4c42-92a7-84b1b2023128"
      },
      "source": [
        "resnet50_model.summary()"
      ],
      "execution_count": 20,
      "outputs": [
        {
          "output_type": "stream",
          "name": "stdout",
          "text": [
            "Model: \"sequential_6\"\n",
            "_________________________________________________________________\n",
            "Layer (type)                 Output Shape              Param #   \n",
            "=================================================================\n",
            "resnet50 (Functional)        (None, 2048)              23587712  \n",
            "=================================================================\n",
            "Total params: 23,587,712\n",
            "Trainable params: 0\n",
            "Non-trainable params: 23,587,712\n",
            "_________________________________________________________________\n"
          ]
        }
      ]
    },
    {
      "cell_type": "code",
      "metadata": {
        "colab": {
          "base_uri": "https://localhost:8080/"
        },
        "id": "BlNwMLwBtolO",
        "outputId": "2376a643-3c4f-4823-c687-72e322326867"
      },
      "source": [
        "resnet50_model.add(Flatten())\n",
        "resnet50_model.add(Dense(512, activation='relu'))\n",
        "resnet50_model.add(Dense(4, activation='softmax'))\n",
        "resnet50_model.summary()"
      ],
      "execution_count": 22,
      "outputs": [
        {
          "output_type": "stream",
          "name": "stdout",
          "text": [
            "Model: \"sequential_6\"\n",
            "_________________________________________________________________\n",
            "Layer (type)                 Output Shape              Param #   \n",
            "=================================================================\n",
            "resnet50 (Functional)        (None, 2048)              23587712  \n",
            "_________________________________________________________________\n",
            "flatten (Flatten)            (None, 2048)              0         \n",
            "_________________________________________________________________\n",
            "dense (Dense)                (None, 512)               1049088   \n",
            "_________________________________________________________________\n",
            "dense_1 (Dense)              (None, 4)                 2052      \n",
            "=================================================================\n",
            "Total params: 24,638,852\n",
            "Trainable params: 1,051,140\n",
            "Non-trainable params: 23,587,712\n",
            "_________________________________________________________________\n"
          ]
        }
      ]
    },
    {
      "cell_type": "code",
      "metadata": {
        "colab": {
          "base_uri": "https://localhost:8080/"
        },
        "id": "FKu0HJPBtobm",
        "outputId": "f9c8a27d-fe34-4d0f-8edf-f02915beb2c9"
      },
      "source": [
        "resnet50_model.compile(optimizer='adam', loss=losses.sparse_categorical_crossentropy, metrics=['accuracy'])\n",
        "print(\"Hyperparameters : {} \\n\".format(resnet50_model.optimizer.get_config()))"
      ],
      "execution_count": 23,
      "outputs": [
        {
          "output_type": "stream",
          "name": "stdout",
          "text": [
            "Hyperparameters : {'name': 'Adam', 'learning_rate': 0.001, 'decay': 0.0, 'beta_1': 0.9, 'beta_2': 0.999, 'epsilon': 1e-07, 'amsgrad': False} \n",
            "\n"
          ]
        }
      ]
    },
    {
      "cell_type": "code",
      "metadata": {
        "colab": {
          "base_uri": "https://localhost:8080/"
        },
        "id": "DWzPn289toSi",
        "outputId": "86258670-52d0-45f2-a28b-c538e1221d64"
      },
      "source": [
        "history = resnet50_model.fit(X_train, y_train,\n",
        "          batch_size=4,\n",
        "          epochs=5,\n",
        "          verbose=1,\n",
        "          validation_data=(X_test, y_test))"
      ],
      "execution_count": 24,
      "outputs": [
        {
          "output_type": "stream",
          "name": "stdout",
          "text": [
            "Epoch 1/5\n",
            "1296/1296 [==============================] - 943s 725ms/step - loss: 0.6319 - accuracy: 0.8148 - val_loss: 0.5392 - val_accuracy: 0.8403\n",
            "Epoch 2/5\n",
            "1296/1296 [==============================] - 921s 710ms/step - loss: 0.5978 - accuracy: 0.8187 - val_loss: 0.5483 - val_accuracy: 0.8403\n",
            "Epoch 3/5\n",
            "1296/1296 [==============================] - 928s 716ms/step - loss: 0.5976 - accuracy: 0.8187 - val_loss: 0.5367 - val_accuracy: 0.8403\n",
            "Epoch 4/5\n",
            "1296/1296 [==============================] - 934s 721ms/step - loss: 0.5955 - accuracy: 0.8187 - val_loss: 0.5470 - val_accuracy: 0.8403\n",
            "Epoch 5/5\n",
            "1296/1296 [==============================] - 931s 718ms/step - loss: 0.5942 - accuracy: 0.8187 - val_loss: 0.5408 - val_accuracy: 0.8403\n"
          ]
        }
      ]
    },
    {
      "cell_type": "code",
      "metadata": {
        "colab": {
          "base_uri": "https://localhost:8080/"
        },
        "id": "C0Os06tRtoJa",
        "outputId": "e0db2332-1e5d-4900-d09b-ead70d610003"
      },
      "source": [
        "score = resnet50_model.evaluate(X_test, y_test, verbose=0)\n",
        "print(\"Hyperparameters : {} \\n\".format(resnet50_model.optimizer.get_config()))\n",
        "print('Test loss:', score[0])\n",
        "print('Test accuracy:', score[1])"
      ],
      "execution_count": 25,
      "outputs": [
        {
          "output_type": "stream",
          "name": "stdout",
          "text": [
            "Hyperparameters : {'name': 'Adam', 'learning_rate': 0.001, 'decay': 0.0, 'beta_1': 0.9, 'beta_2': 0.999, 'epsilon': 1e-07, 'amsgrad': False} \n",
            "\n",
            "Test loss: 0.5407941341400146\n",
            "Test accuracy: 0.8402777910232544\n"
          ]
        }
      ]
    },
    {
      "cell_type": "code",
      "metadata": {
        "colab": {
          "base_uri": "https://localhost:8080/",
          "height": 573
        },
        "id": "OkFR_ZvTt_rF",
        "outputId": "97063553-bb04-4734-9489-c0577d79226b"
      },
      "source": [
        "#Plotting the graph of accuracy VS epoch\n",
        "plt.plot(history.history['accuracy'])\n",
        "plt.title('model accuracy')\n",
        "plt.ylabel('accuracy')\n",
        "plt.xlabel('epoch')\n",
        "plt.legend(['train'],loc='upper left')\n",
        "plt.show()\n",
        "\n",
        "#Plotting the graph of loss VS epoch\n",
        "plt.plot(history.history['loss'])\n",
        "plt.title('model loss')\n",
        "plt.ylabel('loss')\n",
        "plt.xlabel('epoch')\n",
        "plt.legend(['train'],loc='upper left')\n",
        "plt.show()"
      ],
      "execution_count": 26,
      "outputs": [
        {
          "output_type": "display_data",
          "data": {
            "image/png": "[encoded data removed]",
            "text/plain": [
              "<Figure size 432x288 with 1 Axes>"
            ]
          },
          "metadata": {
            "needs_background": "light"
          }
        },
        {
          "output_type": "display_data",
          "data": {
            "image/png": "[encoded data removed]",
            "text/plain": [
              "<Figure size 432x288 with 1 Axes>"
            ]
          },
          "metadata": {
            "needs_background": "light"
          }
        }
      ]
    }
  ]
}