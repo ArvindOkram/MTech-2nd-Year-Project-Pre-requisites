{
  "nbformat": 4,
  "nbformat_minor": 0,
  "metadata": {
    "colab": {
      "name": "SENet.ipynb",
      "provenance": [],
      "collapsed_sections": []
    },
    "kernelspec": {
      "name": "python3",
      "display_name": "Python 3"
    },
    "language_info": {
      "name": "python"
    }
  },
  "cells": [
    {
      "cell_type": "code",
      "metadata": {
        "id": "hw7bKqCkJehW"
      },
      "source": [
        "import keras\n",
        "import tensorflow as tf\n",
        "from tensorflow import keras\n",
        "from keras.models import Sequential\n",
        "from keras.layers import Dense, Dropout, Flatten\n",
        "from keras.layers import Conv2D, MaxPooling2D\n",
        "from keras.layers import Activation, MaxPool2D\n",
        "from tensorflow.keras.utils import to_categorical\n",
        "from keras.preprocessing import image\n",
        "from tensorflow.keras import datasets, layers, models, losses\n",
        "import numpy as np\n",
        "import pandas as pd\n",
        "import matplotlib.pyplot as plt\n",
        "from sklearn.model_selection import train_test_split\n",
        "from tqdm import tqdm\n",
        "import keras.backend as K\n",
        "%matplotlib inline"
      ],
      "execution_count": 19,
      "outputs": []
    },
    {
      "cell_type": "code",
      "metadata": {
        "colab": {
          "base_uri": "https://localhost:8080/"
        },
        "id": "q4w_uPvuKAoW",
        "outputId": "30a9ad32-68c4-429f-9ab0-a501effbd609"
      },
      "source": [
        "# reading the labels of training data\n",
        "train_set = pd.read_csv('/content/drive/MyDrive/Mtech Project/Dataset/Messidor/train.csv')    # reading the csv file\n",
        "train_image = []\n",
        "\n",
        "#loading training data using the labels\n",
        "for i in tqdm(range(train_set.shape[0])):\n",
        "    img = image.load_img('../content/drive/MyDrive/Mtech Project/Dataset/Messidor/train/' + train_set['Image'][i],target_size=(224,224,3))\n",
        "    img = image.img_to_array(img)\n",
        "    img = img/255\n",
        "    train_image.append(img)\n",
        "\n",
        "X = np.array(train_image)\n",
        "\n",
        "# reading the labels of testing data            \n",
        "test_set =  pd.read_csv('/content/drive/MyDrive/Mtech Project/Dataset/Messidor/test.csv')    # reading the csv file\n",
        "test_image = []\n",
        "\n",
        "#loading testing data using the labels\n",
        "for i in tqdm(range(test_set.shape[0])):\n",
        "    img = image.load_img('../content/drive/MyDrive/Mtech Project/Dataset/Augmented Messidor*5/test/' + test_set['Image'][i],target_size=(224,224,3))\n",
        "    img = image.img_to_array(img)\n",
        "    img = img/255\n",
        "    test_image.append(img)\n",
        "\n",
        "Y = np.array(test_image)"
      ],
      "execution_count": 20,
      "outputs": [
        {
          "output_type": "stream",
          "name": "stderr",
          "text": [
            "100%|██████████| 960/960 [00:45<00:00, 21.24it/s]\n",
            "100%|██████████| 240/240 [00:09<00:00, 25.32it/s]\n"
          ]
        }
      ]
    },
    {
      "cell_type": "code",
      "metadata": {
        "id": "sN09AEd6OU6P"
      },
      "source": [
        "y = np.array(train_set.drop(['Image', 'Risk of macular edema '],axis=1))\n",
        "X_train, X_test, y_train, y_test = train_test_split(X, y, random_state=42, test_size=0.1)"
      ],
      "execution_count": 21,
      "outputs": []
    },
    {
      "cell_type": "code",
      "metadata": {
        "id": "_5Tg2PZKObDR"
      },
      "source": [
        "model = tf.keras.applications.InceptionV3(\n",
        "                    include_top=False,\n",
        "                    weights=\"imagenet\",\n",
        "                    input_shape=(224,224,3),\n",
        "                    classes=1000,\n",
        "                    classifier_activation=\"softmax\",\n",
        "                )"
      ],
      "execution_count": 22,
      "outputs": []
    },
    {
      "cell_type": "code",
      "metadata": {
        "id": "m6t6dF9r6q0E"
      },
      "source": [
        "model.summary()"
      ],
      "execution_count": null,
      "outputs": []
    },
    {
      "cell_type": "code",
      "metadata": {
        "id": "wqepKJdSQGqc"
      },
      "source": [
        "base_in=model.input\n",
        "base_out=model.output"
      ],
      "execution_count": 24,
      "outputs": []
    },
    {
      "cell_type": "code",
      "metadata": {
        "colab": {
          "base_uri": "https://localhost:8080/"
        },
        "id": "LA0xaWFVeWuw",
        "outputId": "32f46a4d-7319-48eb-ff37-648969ec5d1a"
      },
      "source": [
        "base_out.shape"
      ],
      "execution_count": 25,
      "outputs": [
        {
          "output_type": "execute_result",
          "data": {
            "text/plain": [
              "TensorShape([None, 5, 5, 2048])"
            ]
          },
          "metadata": {},
          "execution_count": 25
        }
      ]
    },
    {
      "cell_type": "code",
      "metadata": {
        "id": "4CDH5CWtOwZy"
      },
      "source": [
        "def se_block(input_shape, ch, ratio=16):\n",
        "  shape = K.int_shape(input_shape)\n",
        "  x = tf.keras.layers.AveragePooling2D(pool_size=(shape[1],shape[2]))(input_shape)\n",
        "  print(x.shape)\n",
        "  x = Dense(ch//ratio, activation='relu')(x)\n",
        "  print(x.shape)\n",
        "  x = Dense(ch, activation='sigmoid')(x)\n",
        "  print(x.shape)\n",
        "  se = tf.keras.layers.Multiply()([input_shape, x])\n",
        "  return se"
      ],
      "execution_count": 26,
      "outputs": []
    },
    {
      "cell_type": "code",
      "metadata": {
        "colab": {
          "base_uri": "https://localhost:8080/"
        },
        "id": "hcTDbl_3Znul",
        "outputId": "ea5cab02-34af-49a3-b06f-51d417581450"
      },
      "source": [
        "base_out.shape"
      ],
      "execution_count": 27,
      "outputs": [
        {
          "output_type": "execute_result",
          "data": {
            "text/plain": [
              "TensorShape([None, 5, 5, 2048])"
            ]
          },
          "metadata": {},
          "execution_count": 27
        }
      ]
    },
    {
      "cell_type": "code",
      "metadata": {
        "colab": {
          "base_uri": "https://localhost:8080/"
        },
        "id": "1kpgjOgpQjg2",
        "outputId": "eb9c18c2-8b9e-4bf3-cf58-df21d6edc9d2"
      },
      "source": [
        "shape = K.int_shape(base_out)\n",
        "ch = shape[3]\n",
        "attention = se_block(base_out,ch)\n",
        "#x = Dense(4, activation='softmax')(attention)\n",
        "'''\n",
        "densenet121_model.add(Flatten())\n",
        "densenet121_model.add(Dense(512, activation='relu'))\n",
        "densenet121_model.add(Dense(4, activation='softmax'))\n",
        "'''\n",
        "x = Flatten()(attention)\n",
        "x = Dense(512,activation='relu')(x)\n",
        "out = Dense(4,activation='softmax')(x)"
      ],
      "execution_count": 31,
      "outputs": [
        {
          "output_type": "stream",
          "name": "stdout",
          "text": [
            "(None, 1, 1, 2048)\n",
            "(None, 1, 1, 128)\n",
            "(None, 1, 1, 2048)\n"
          ]
        }
      ]
    },
    {
      "cell_type": "code",
      "metadata": {
        "colab": {
          "base_uri": "https://localhost:8080/"
        },
        "id": "UCuWidQfZJsP",
        "outputId": "f0f7e114-3fed-4d1d-a30c-14ff6b8cd9dc"
      },
      "source": [
        "out.shape"
      ],
      "execution_count": 33,
      "outputs": [
        {
          "output_type": "execute_result",
          "data": {
            "text/plain": [
              "TensorShape([None, 4])"
            ]
          },
          "metadata": {},
          "execution_count": 33
        }
      ]
    },
    {
      "cell_type": "code",
      "metadata": {
        "id": "PUmGuGxZVfxV"
      },
      "source": [
        "model.trainable = False\n",
        "se_model = keras.Model(inputs=model.input, outputs=out)\n"
      ],
      "execution_count": 37,
      "outputs": []
    },
    {
      "cell_type": "code",
      "metadata": {
        "id": "yWJwRTmWVfml"
      },
      "source": [
        "se_model.summary()"
      ],
      "execution_count": null,
      "outputs": []
    },
    {
      "cell_type": "code",
      "metadata": {
        "colab": {
          "base_uri": "https://localhost:8080/"
        },
        "id": "dn67FlE30AIu",
        "outputId": "91495da7-a56c-47a1-c7c4-1e2f285dd5c1"
      },
      "source": [
        "print(se_model.output.shape)\n",
        "print(X_train.shape)\n",
        "print(X_test.shape)\n",
        "print(y_train.shape)\n",
        "print(y_test.shape)"
      ],
      "execution_count": 38,
      "outputs": [
        {
          "output_type": "stream",
          "name": "stdout",
          "text": [
            "(None, 4)\n",
            "(864, 224, 224, 3)\n",
            "(96, 224, 224, 3)\n",
            "(864, 1)\n",
            "(96, 1)\n"
          ]
        }
      ]
    },
    {
      "cell_type": "code",
      "metadata": {
        "colab": {
          "base_uri": "https://localhost:8080/"
        },
        "id": "fGSiCjXi64Zo",
        "outputId": "f9c623f2-b19a-46bb-c693-534db1c3b38e"
      },
      "source": [
        "#setting hyperparameters categorical_crossentropy\n",
        "se_model.compile(optimizer='adam', loss=losses.sparse_categorical_crossentropy, metrics=['accuracy'])\n",
        "\n",
        "#training\n",
        "history = se_model.fit(X_train, y_train,\n",
        "          batch_size=4,\n",
        "          epochs=15,\n",
        "          verbose=1,\n",
        "          validation_data=(X_test, y_test))"
      ],
      "execution_count": 39,
      "outputs": [
        {
          "output_type": "stream",
          "name": "stdout",
          "text": [
            "Epoch 1/15\n",
            "216/216 [==============================] - 203s 916ms/step - loss: 1.2498 - accuracy: 0.4792 - val_loss: 1.1383 - val_accuracy: 0.4896\n",
            "Epoch 2/15\n",
            "216/216 [==============================] - 210s 973ms/step - loss: 1.0211 - accuracy: 0.5845 - val_loss: 1.2592 - val_accuracy: 0.4062\n",
            "Epoch 3/15\n",
            "216/216 [==============================] - 206s 956ms/step - loss: 0.8446 - accuracy: 0.6470 - val_loss: 1.2289 - val_accuracy: 0.5000\n",
            "Epoch 4/15\n",
            "216/216 [==============================] - 199s 922ms/step - loss: 0.6513 - accuracy: 0.7477 - val_loss: 1.3237 - val_accuracy: 0.3958\n",
            "Epoch 5/15\n",
            "216/216 [==============================] - 194s 899ms/step - loss: 0.4432 - accuracy: 0.8461 - val_loss: 1.4430 - val_accuracy: 0.5104\n",
            "Epoch 6/15\n",
            "216/216 [==============================] - 203s 941ms/step - loss: 0.2769 - accuracy: 0.9155 - val_loss: 1.6875 - val_accuracy: 0.5104\n",
            "Epoch 7/15\n",
            "216/216 [==============================] - 194s 899ms/step - loss: 0.1473 - accuracy: 0.9676 - val_loss: 1.7351 - val_accuracy: 0.4792\n",
            "Epoch 8/15\n",
            "216/216 [==============================] - 205s 949ms/step - loss: 0.0726 - accuracy: 0.9919 - val_loss: 1.9217 - val_accuracy: 0.5208\n",
            "Epoch 9/15\n",
            "216/216 [==============================] - 203s 941ms/step - loss: 0.0376 - accuracy: 0.9977 - val_loss: 1.9954 - val_accuracy: 0.5521\n",
            "Epoch 10/15\n",
            "216/216 [==============================] - 206s 956ms/step - loss: 0.0281 - accuracy: 0.9977 - val_loss: 2.0116 - val_accuracy: 0.5312\n",
            "Epoch 11/15\n",
            "216/216 [==============================] - 203s 940ms/step - loss: 0.0177 - accuracy: 0.9988 - val_loss: 2.1635 - val_accuracy: 0.5104\n",
            "Epoch 12/15\n",
            "216/216 [==============================] - 206s 952ms/step - loss: 0.0256 - accuracy: 0.9977 - val_loss: 2.1527 - val_accuracy: 0.5312\n",
            "Epoch 13/15\n",
            "216/216 [==============================] - 204s 945ms/step - loss: 0.0139 - accuracy: 0.9988 - val_loss: 2.3677 - val_accuracy: 0.5417\n",
            "Epoch 14/15\n",
            "216/216 [==============================] - 205s 948ms/step - loss: 0.0138 - accuracy: 0.9988 - val_loss: 2.6701 - val_accuracy: 0.5312\n",
            "Epoch 15/15\n",
            "216/216 [==============================] - 205s 952ms/step - loss: 0.0136 - accuracy: 0.9988 - val_loss: 2.4414 - val_accuracy: 0.5312\n"
          ]
        }
      ]
    },
    {
      "cell_type": "code",
      "metadata": {
        "colab": {
          "base_uri": "https://localhost:8080/"
        },
        "id": "uMF4b61sb_Ca",
        "outputId": "5114d7b9-edd6-44a7-f323-7fd3f031ed39"
      },
      "source": [
        "score = se_model.evaluate(X_test, y_test, verbose=0)\n",
        "print(\"Hyperparameters : {} \\n\".format(se_model.optimizer.get_config()))\n",
        "print('Test loss:', score[0])\n",
        "print('Test accuracy:', score[1])"
      ],
      "execution_count": 40,
      "outputs": [
        {
          "output_type": "stream",
          "name": "stdout",
          "text": [
            "Hyperparameters : {'name': 'Adam', 'learning_rate': 0.001, 'decay': 0.0, 'beta_1': 0.9, 'beta_2': 0.999, 'epsilon': 1e-07, 'amsgrad': False} \n",
            "\n",
            "Test loss: 2.441356897354126\n",
            "Test accuracy: 0.53125\n"
          ]
        }
      ]
    },
    {
      "cell_type": "code",
      "metadata": {
        "colab": {
          "base_uri": "https://localhost:8080/",
          "height": 573
        },
        "id": "tFazj6Xmb_kd",
        "outputId": "2a4f5628-61ea-417f-8652-1f1381e5a106"
      },
      "source": [
        "#Plotting the graph of accuracy VS epoch\n",
        "plt.plot(history.history['accuracy'])\n",
        "plt.title('model accuracy')\n",
        "plt.ylabel('accuracy')\n",
        "plt.xlabel('epoch')\n",
        "plt.legend(['train'],loc='upper left')\n",
        "plt.show()\n",
        "\n",
        "#Plotting the graph of loss VS epoch\n",
        "plt.plot(history.history['loss'])\n",
        "plt.title('model loss')\n",
        "plt.ylabel('loss')\n",
        "plt.xlabel('epoch')\n",
        "plt.legend(['train'],loc='upper left')\n",
        "plt.show()"
      ],
      "execution_count": 42,
      "outputs": [
        {
          "output_type": "display_data",
          "data": {
            "image/png": "[encoded data removed]",
            "text/plain": [
              "<Figure size 432x288 with 1 Axes>"
            ]
          },
          "metadata": {
            "needs_background": "light"
          }
        },
        {
          "output_type": "display_data",
          "data": {
            "image/png": "[encoded data removed]",
            "text/plain": [
              "<Figure size 432x288 with 1 Axes>"
            ]
          },
          "metadata": {
            "needs_background": "light"
          }
        }
      ]
    }
  ]
}